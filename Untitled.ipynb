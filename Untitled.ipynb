{
 "cells": [
  {
   "cell_type": "code",
   "execution_count": 215,
   "id": "09751e0c-2660-4b9a-95a6-379377c64705",
   "metadata": {},
   "outputs": [
    {
     "data": {
      "text/html": [
       "<h1> x </h1>\n"
      ],
      "text/plain": [
       "<IPython.core.display.HTML object>"
      ]
     },
     "metadata": {},
     "output_type": "display_data"
    }
   ],
   "source": [
    "%%html\n",
    "<h1> x </h1>"
   ]
  },
  {
   "cell_type": "code",
   "execution_count": 1,
   "id": "ccf80ebf-5776-4e4f-8e9c-f8ed33390e7a",
   "metadata": {},
   "outputs": [
    {
     "data": {
      "text/html": [
       "<style>\n",
       "h1 {\n",
       "    text-align: center;\n",
       "    font-weight: bold;\n",
       "    height:50px;\n",
       "    \n",
       "    animation: manimation 3s infinite;\n",
       "}\n",
       "@keyframes manimation {\n",
       "  0%   {color:red;}\n",
       "  20%  {color:green;}\n",
       "  40%  {color:orange;}\n",
       "  60%  {color:blue;}\n",
       "  80%  {color:black;}\n",
       "  100% {color:violet;}\n",
       "}\n",
       "</style>\n"
      ],
      "text/plain": [
       "<IPython.core.display.HTML object>"
      ]
     },
     "metadata": {},
     "output_type": "display_data"
    }
   ],
   "source": [
    "%%html\n",
    "<style>\n",
    "h1 {\n",
    "    text-align: center;\n",
    "    font-weight: bold;\n",
    "    height:50px;\n",
    "    animation: manimation 3s infinite;\n",
    "}\n",
    "@keyframes manimation {\n",
    "  0%   {color:red;}\n",
    "  20%  {color:green;}\n",
    "  40%  {color:orange;}\n",
    "  60%  {color:blue;}\n",
    "  80%  {color:black;}\n",
    "  100% {color:violet;}\n",
    "}\n",
    "</style>"
   ]
  },
  {
   "cell_type": "code",
   "execution_count": 192,
   "id": "21888f5f-34eb-41a1-a626-d55efa582f68",
   "metadata": {},
   "outputs": [
    {
     "data": {
      "text/html": [
       "<details>\n",
       "  <summary>(<i>click to show/hide iframe</i>)</summary>\n",
       "\n",
       "\t\t\t    <div class=\"eye\"></div>\n",
       "\t\t\t    <div class=\"belly\"></div>\n",
       "\t\t\t    <div class=\"eyeball\"></div>\n",
       "\t\t\t    <div class=\"eyeshade\"></div>\n",
       "\t\t\t    <div class=\"hand\"></div>\n",
       "\t\t\t    <div class=\"finger\"></div>\n",
       "\t\t\t    <div class=\"nose\"></div>\n",
       "</details>\n"
      ],
      "text/plain": [
       "<IPython.core.display.HTML object>"
      ]
     },
     "metadata": {},
     "output_type": "display_data"
    }
   ],
   "source": [
    "<style>\n",
    ":root{\n",
    "\t    --light-shade: #f1edf6;\n",
    "\t    --dark-shade: #02211C;\n",
    "\t    --base-brand: #2377ff;\n",
    "\t    --first-accent: #3d87ff;\n",
    "\t    --second-accent: #206BE5;\n",
    "\t}\n",
    "    /*body {\n",
    "    \tbackground-color: var(--first-accent);\n",
    "    }*/\n",
    "    .poliwhirl {\n",
    "        position:abolute;\n",
    "        background: #ff0000;\n",
    "        height:100px;\n",
    "        width:100%;\n",
    "    }\n",
    "    .eye {\n",
    "        width: 75px;\n",
    "        height: 75px;\n",
    "        background: var(--base-brand);\n",
    "        position: relative;\n",
    "        border-radius: 50%;\n",
    "        left: calc(50% - 100px);\n",
    "        /*top: calc(50% + 35px);*/\n",
    "        box-shadow: 125px 0 0 0 var(--base-brand);\n",
    "    }\n",
    "    .belly {\n",
    "\t    width: 200px;\n",
    "\t    height: 200px;\n",
    "\t    background: var(--light-shade);\n",
    "\t    transform: rotate(45deg);\n",
    "\t    position: relative;\n",
    "\t    border-radius: 50%;\n",
    "\t    left: calc(50% - 100px);\n",
    "\t    top: -20px;\n",
    "\t    box-shadow: 0 0 0 25px var(--base-brand);\n",
    "    }\n",
    "    .eyeball {\n",
    "        width: 25px;\n",
    "        height: 25px;\n",
    "        position: relative;\n",
    "        background: var(--dark-shade);\n",
    "        border-radius: 50%;\n",
    "        left: calc(50% - 75px);\n",
    "        top: -250px;\n",
    "        box-shadow: 0 0 0 5px var(--light-shade),\n",
    "                    125px 0 0 0 var(--dark-shade),\n",
    "                    125px 0 0 5px var(--light-shade);\n",
    "    }\n",
    "    .eyeshade {\n",
    "\t    width: 10px;\n",
    "\t    height: 10px;\n",
    "\t    border-radius: 50%;\n",
    "\t    background: var(--light-shade);\n",
    "\t    position: relative;\n",
    "\t    left: calc(50% - 60px);\n",
    "\t    top: -275px;\n",
    "\t    box-shadow: 125px 0 0 0px var(--light-shade);\n",
    "    }\n",
    "    .nose {\n",
    "\t    width: 5px;\n",
    "\t    height: 5px;\n",
    "\t    position: relative;\n",
    "\t    background: var(--dark-shade);\n",
    "\t    border-radius: 50%;\n",
    "\t    transform: rotate(0deg);\n",
    "\t    left: calc(50% - 7px);\n",
    "\t    top: -390px;\n",
    "\t    box-shadow: 10px 0 0 0 var(--dark-shade);\n",
    "    }\n",
    "    .hand {\n",
    "        background: var(--light-shade);\n",
    "        width: 90px;\n",
    "        height: 90px;\n",
    "        position: relative;\n",
    "        border-radius: 50%;\n",
    "        left: calc(50% - 200px);\n",
    "        top: -150px;\n",
    "        box-shadow: 310px 0 0 0 var(--light-shade);\n",
    "    }\n",
    "    .finger {\n",
    "        background: var(--light-shade);\n",
    "        width: 30px;\n",
    "        height: 30px;\n",
    "        position: relative;\n",
    "        border-radius: 50%;\n",
    "        left: calc(50% - 135px);\n",
    "        top: -180px;\n",
    "        box-shadow: 240px 0 0 0 var(--light-shade);\n",
    "    }\n",
    "</style>"
   ]
  },
  {
   "cell_type": "code",
   "execution_count": null,
   "id": "ff1262cd-67ca-4e92-819f-0720e278ec19",
   "metadata": {},
   "outputs": [],
   "source": [
    "%%HTML\n",
    "<details>\n",
    "  <summary>(<i>click to show/hide iframe</i>)</summary>\n",
    "\n",
    "\t\t\t    <div class=\"eye\"></div>\n",
    "\t\t\t    <div class=\"belly\"></div>\n",
    "\t\t\t    <div class=\"eyeball\"></div>\n",
    "\t\t\t    <div class=\"eyeshade\"></div>\n",
    "\t\t\t    <div class=\"hand\"></div>\n",
    "\t\t\t    <div class=\"finger\"></div>\n",
    "\t\t\t    <div class=\"nose\"></div>\n",
    "</details>"
   ]
  }
 ],
 "metadata": {
  "kernelspec": {
   "display_name": "Python 3 (ipykernel)",
   "language": "python",
   "name": "python3"
  },
  "language_info": {
   "codemirror_mode": {
    "name": "ipython",
    "version": 3
   },
   "file_extension": ".py",
   "mimetype": "text/x-python",
   "name": "python",
   "nbconvert_exporter": "python",
   "pygments_lexer": "ipython3",
   "version": "3.11.3"
  }
 },
 "nbformat": 4,
 "nbformat_minor": 5
}
