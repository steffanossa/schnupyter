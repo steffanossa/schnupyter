{
 "cells": [
  {
   "cell_type": "code",
   "execution_count": 14,
   "id": "1eec1083",
   "metadata": {},
   "outputs": [
    {
     "data": {
      "application/vnd.jupyter.widget-view+json": {
       "model_id": "85902c4db86743f2882315c6c49853de",
       "version_major": 2,
       "version_minor": 0
      },
      "text/plain": [
       "Button(description='Bau mir einen Plot!', style=ButtonStyle())"
      ]
     },
     "metadata": {},
     "output_type": "display_data"
    },
    {
     "data": {
      "application/vnd.jupyter.widget-view+json": {
       "model_id": "2acadc5702f9498c8e3603094352091f",
       "version_major": 2,
       "version_minor": 0
      },
      "text/plain": [
       "Output()"
      ]
     },
     "metadata": {},
     "output_type": "display_data"
    }
   ],
   "source": [
    "import pandas as pd\n",
    "import matplotlib.pyplot as plt\n",
    "import ipywidgets as widgets\n",
    "from IPython.display import display\n",
    "\n",
    "# Datensatz mit betriebswirtschaftlichem Hintergrund\n",
    "data = {\n",
    "    'Monat': [\n",
    "        'Januar',\n",
    "        'Februar',\n",
    "        'März',\n",
    "        'April',\n",
    "        'Mai',\n",
    "        'Juni'],\n",
    "    'Umsatz': [\n",
    "        10000,\n",
    "        12000,\n",
    "        9000,\n",
    "        11000,\n",
    "        15000,\n",
    "        14500]\n",
    "}\n",
    "\n",
    "df = pd.DataFrame(data)\n",
    "\n",
    "# Widgets\n",
    "button_widget = widgets.Button(description='Bau mir einen Plot!')\n",
    "plot_widget = widgets.Output()\n",
    "\n",
    "# Funktion für den Button\n",
    "def button_click(b):\n",
    "    with plot_widget:\n",
    "        \n",
    "        plt.bar(df['Monat'], df['Umsatz'])\n",
    "        plt.ylabel('Umsatz in €')\n",
    "        plt.title('Umsätze nach Monat')\n",
    "        plt.show()\n",
    "\n",
    "button_widget.on_click(button_click)\n",
    "\n",
    "# Widgets anzeigen lassen\n",
    "display(button_widget)\n",
    "display(plot_widget)\n"
   ]
  },
  {
   "cell_type": "code",
   "execution_count": 18,
   "id": "7d097b5d",
   "metadata": {},
   "outputs": [
    {
     "data": {
      "application/vnd.jupyter.widget-view+json": {
       "model_id": "9198aad524d24d1c9b8ed64497579585",
       "version_major": 2,
       "version_minor": 0
      },
      "text/plain": [
       "Text(value='iHola, chicos!')"
      ]
     },
     "metadata": {},
     "output_type": "display_data"
    },
    {
     "data": {
      "application/vnd.jupyter.widget-view+json": {
       "model_id": "771ff11773084a45988b0483b504f78c",
       "version_major": 2,
       "version_minor": 0
      },
      "text/plain": [
       "IntSlider(value=50)"
      ]
     },
     "metadata": {},
     "output_type": "display_data"
    },
    {
     "data": {
      "application/vnd.jupyter.widget-view+json": {
       "model_id": "57f99e13459947cc9c561332def114b0",
       "version_major": 2,
       "version_minor": 0
      },
      "text/plain": [
       "Checkbox(value=False, description='Checkbox')"
      ]
     },
     "metadata": {},
     "output_type": "display_data"
    },
    {
     "data": {
      "application/vnd.jupyter.widget-view+json": {
       "model_id": "13d728649697415c9f579f3f6f05c95c",
       "version_major": 2,
       "version_minor": 0
      },
      "text/plain": [
       "Dropdown(options=('Option 1', 'Option 2', 'Option 3'), value='Option 1')"
      ]
     },
     "metadata": {},
     "output_type": "display_data"
    },
    {
     "data": {
      "application/vnd.jupyter.widget-view+json": {
       "model_id": "1bd7f1ccb126406f9cb2b2bca0d9ea0b",
       "version_major": 2,
       "version_minor": 0
      },
      "text/plain": [
       "Button(description='Button', style=ButtonStyle())"
      ]
     },
     "metadata": {},
     "output_type": "display_data"
    },
    {
     "data": {
      "application/vnd.jupyter.widget-view+json": {
       "model_id": "645ed4f2f0a440acbfde8731cdd80b03",
       "version_major": 2,
       "version_minor": 0
      },
      "text/plain": [
       "Output()"
      ]
     },
     "metadata": {},
     "output_type": "display_data"
    }
   ],
   "source": [
    "import ipywidgets as widgets\n",
    "from IPython.display import display\n",
    "\n",
    "# Text-Widget\n",
    "text_widget = widgets.Text(value='iHola, chicos!')\n",
    "\n",
    "# Integer-Slider-Widget\n",
    "slider_widget = widgets.IntSlider(min=0, max=100, value=50)\n",
    "\n",
    "# Checkbox-Widget\n",
    "checkbox_widget = widgets.Checkbox(description='Checkbox')\n",
    "\n",
    "# Dropdown-Widget\n",
    "dropdown_widget = widgets.Dropdown(options=['Option 1', 'Option 2', 'Option 3'], value='Option 1')\n",
    "\n",
    "# Button-Widget\n",
    "button_widget = widgets.Button(description='Button')\n",
    "\n",
    "# Output-Widget\n",
    "output_widget = widgets.Output()\n",
    "\n",
    "# Funktion für Button\n",
    "def button_click(b):\n",
    "    with output_widget:\n",
    "        print('Cool!')\n",
    "button_widget.on_click(button_click)\n",
    "\n",
    "# Widgets anzeigen lassen\n",
    "display(text_widget)\n",
    "display(slider_widget)\n",
    "display(checkbox_widget)\n",
    "display(dropdown_widget)\n",
    "display(button_widget)\n",
    "display(output_widget)"
   ]
  },
  {
   "cell_type": "code",
   "execution_count": null,
   "id": "1d150179",
   "metadata": {},
   "outputs": [],
   "source": []
  }
 ],
 "metadata": {
  "kernelspec": {
   "display_name": "Python 3 (ipykernel)",
   "language": "python",
   "name": "python3"
  },
  "language_info": {
   "codemirror_mode": {
    "name": "ipython",
    "version": 3
   },
   "file_extension": ".py",
   "mimetype": "text/x-python",
   "name": "python",
   "nbconvert_exporter": "python",
   "pygments_lexer": "ipython3",
   "version": "3.11.3"
  }
 },
 "nbformat": 4,
 "nbformat_minor": 5
}
